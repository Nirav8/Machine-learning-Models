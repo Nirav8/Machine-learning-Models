{
 "cells": [
  {
   "cell_type": "code",
   "execution_count": 6,
   "metadata": {},
   "outputs": [],
   "source": [
    "import pandas as pd\n",
    "import matplotlib.pyplot as plt\n",
    "import scipy.io as imat\n",
    "import numpy as np\n",
    "from tqdm import tqdm"
   ]
  },
  {
   "cell_type": "code",
   "execution_count": 7,
   "metadata": {},
   "outputs": [],
   "source": [
    "# \"\"\"\n",
    "# no. of layer = h          = [3]\n",
    "# hidden layer size = (h,1) = [3, 4, 2]\n",
    "# shape X =                 = [2, 177]\n",
    "# \"\"\""
   ]
  },
  {
   "cell_type": "code",
   "execution_count": 8,
   "metadata": {},
   "outputs": [],
   "source": [
    "\"\"\"\n",
    "Activation Functions\n",
    "\"\"\"\n",
    "\n",
    "def sigmoid(z):\n",
    "    return 1 / (1 + (np.exp(-z)))\n",
    "def ReLU(z):\n",
    "    return np.maximum(0,z)\n",
    "def Leaky_ReLU(z,leak):\n",
    "    return np.maximum(leak,z)"
   ]
  },
  {
   "cell_type": "code",
   "execution_count": 9,
   "metadata": {},
   "outputs": [],
   "source": [
    "#final virsion without b_p bug\n",
    "class N_Net():\n",
    "    \n",
    "    def __init__(self, x, y, n_h, n_u):\n",
    "        self.x = x\n",
    "        self.y = y\n",
    "        self.n_h = n_h\n",
    "        self.n_u = n_u\n",
    "\n",
    "    def define_parameters(self):\n",
    "        x = self.x\n",
    "        n_h = self.n_h\n",
    "        n_u = self.n_u\n",
    "        \n",
    "        i_l = np.shape(x)[0]   # n = features\n",
    "        w, b= [], []\n",
    "        for i in range(n_h):\n",
    "            w.append((np.random.randn(n_u[i], i_l) * 0.01).tolist())\n",
    "            i_l = n_u[i]\n",
    "            b.append((np.zeros((n_u[i],1))).tolist())\n",
    "        return w, b\n",
    "    \n",
    "    def forward_prapogation(self,x ,w, b):\n",
    "        z, a = [], []\n",
    "    #loop\n",
    "        for i in range(len(w)):\n",
    "            if i == 0:\n",
    "                z.append(np.dot(w[i], x) + b[i])\n",
    "                a.append(sigmoid(z[i]))\n",
    "            else:\n",
    "                z.append(np.dot(w[i], z[i-1]) + b[i])\n",
    "                a.append(sigmoid(z[i]))\n",
    "        return z, a\n",
    "    \n",
    "    def backward_propogation(self, z, a, w):\n",
    "        dz, dw, db = [], [], []\n",
    "        x, y = self.x, self.y\n",
    "        \n",
    "        #loop\n",
    "        for i in range(len(w)):\n",
    "            if i == 0:\n",
    "                if np.shape(a[-1]) != np.shape(y):\n",
    "                    print(\"check your 'y' !!!!\")\n",
    "                    break\n",
    "                dz.append(a[i-1] - y)\n",
    "                dw.append(np.dot(dz[i] , np.array(a[i-2]).T))\n",
    "                db.append(np.sum(dz[i], axis=1,  keepdims=True))\n",
    "                \n",
    "            elif i == len(w)-1:\n",
    "                dz.append(np.dot(np.array(w[-i]).T , dz[i-1])) #, (1 - np.power(a[i-1],2))\n",
    "                dw.append(np.dot(dz[i], x.T))\n",
    "                db.append(np.sum(dz[i], axis=1,  keepdims=True))\n",
    "                \n",
    "            else:\n",
    "                dz.append(np.dot(np.array(w[-i]).T , dz[i-1]))   #, (1 - np.power(a[i-1],2))\n",
    "                dw.append(np.dot(dz[i], np.array(a[-i-2]).T))\n",
    "                db.append(np.sum(dz[i], axis=1,  keepdims=True))\n",
    "                \n",
    "        return np.flip(dw), np.flip(db), np.flip(dz)\n",
    "    \n",
    "    def model(self, itteration = 1000, alfa = 0.01):\n",
    "        x = self.x \n",
    "        m = np.shape(x)[1]\n",
    "        w, b = self.define_parameters()\n",
    "        \n",
    "        for i in tqdm(range(itteration)):\n",
    "            \n",
    "            z, a = self.forward_prapogation(x, w, b)\n",
    "            dw, db, dz = self.backward_propogation(z, a, w)\n",
    "            \n",
    "            dw, db = dw/m, db/m\n",
    "            \n",
    "            temp_w = w - (alfa * dw)\n",
    "            temp_b = b - (alfa * db)\n",
    "            w, b = temp_w, temp_b\n",
    "        \n",
    "        return w, b"
   ]
  },
  {
   "cell_type": "code",
   "execution_count": null,
   "metadata": {},
   "outputs": [],
   "source": []
  },
  {
   "cell_type": "code",
   "execution_count": 1,
   "metadata": {},
   "outputs": [
    {
     "ename": "NameError",
     "evalue": "name 'imat' is not defined",
     "output_type": "error",
     "traceback": [
      "\u001b[1;31m---------------------------------------------------------------------------\u001b[0m",
      "\u001b[1;31mNameError\u001b[0m                                 Traceback (most recent call last)",
      "\u001b[1;32m<ipython-input-1-862d7ffbf600>\u001b[0m in \u001b[0;36m<module>\u001b[1;34m\u001b[0m\n\u001b[1;32m----> 1\u001b[1;33m \u001b[0mnumber_data\u001b[0m \u001b[1;33m=\u001b[0m \u001b[0mimat\u001b[0m\u001b[1;33m.\u001b[0m\u001b[0mloadmat\u001b[0m\u001b[1;33m(\u001b[0m\u001b[1;34m'ex4data1.mat'\u001b[0m\u001b[1;33m)\u001b[0m\u001b[1;33m\u001b[0m\u001b[1;33m\u001b[0m\u001b[0m\n\u001b[0m",
      "\u001b[1;31mNameError\u001b[0m: name 'imat' is not defined"
     ]
    }
   ],
   "source": [
    "number_data = imat.loadmat('ex4data1.mat')"
   ]
  },
  {
   "cell_type": "code",
   "execution_count": 51,
   "metadata": {},
   "outputs": [],
   "source": [
    "x = number_data['X']\n",
    "y = number_data['y']"
   ]
  },
  {
   "cell_type": "code",
   "execution_count": 52,
   "metadata": {},
   "outputs": [
    {
     "data": {
      "text/plain": [
       "(5000, 1)"
      ]
     },
     "execution_count": 52,
     "metadata": {},
     "output_type": "execute_result"
    }
   ],
   "source": [
    "np.shape(y)"
   ]
  },
  {
   "cell_type": "code",
   "execution_count": 12,
   "metadata": {},
   "outputs": [
    {
     "name": "stderr",
     "output_type": "stream",
     "text": [
      "100%|██████████| 400/400 [01:13<00:00,  5.43it/s]\n"
     ]
    }
   ],
   "source": [
    "ob = N_Net(x.T, y.T, 4, [100,50,20,1])\n",
    "w, b = ob.define_parameters()\n",
    "z, a = ob.forward_prapogation(x.T, w, b)\n",
    "dw, db, dz =  ob.backward_propogation(z, a, w)\n",
    "w, b = ob.model(itteration = 400)"
   ]
  },
  {
   "cell_type": "code",
   "execution_count": 15,
   "metadata": {},
   "outputs": [],
   "source": [
    "result = ob.forward_prapogation((x[32]).reshape(400,1), w, b)"
   ]
  },
  {
   "cell_type": "code",
   "execution_count": 16,
   "metadata": {},
   "outputs": [
    {
     "data": {
      "text/plain": [
       "array([[1.]])"
      ]
     },
     "execution_count": 16,
     "metadata": {},
     "output_type": "execute_result"
    }
   ],
   "source": [
    "result[-1][-1]"
   ]
  },
  {
   "cell_type": "code",
   "execution_count": 59,
   "metadata": {},
   "outputs": [],
   "source": [
    "data = pd.read_csv('ex2data2.csv')\n",
    "data.columns = ['0','x1','x2',\"y\"]\n",
    "x = np.array(pd.concat([data['x1'] , data['x2']] , axis = 1))\n",
    "y = np.array(data['y'])"
   ]
  },
  {
   "cell_type": "code",
   "execution_count": 56,
   "metadata": {},
   "outputs": [
    {
     "data": {
      "text/plain": [
       "<matplotlib.collections.PathCollection at 0x248d18daf88>"
      ]
     },
     "execution_count": 56,
     "metadata": {},
     "output_type": "execute_result"
    },
    {
     "data": {
      "image/png": "[encoded data removed]",
      "text/plain": [
       "<Figure size 432x288 with 1 Axes>"
      ]
     },
     "metadata": {
      "needs_background": "light"
     },
     "output_type": "display_data"
    }
   ],
   "source": [
    "plt.scatter(data['x1'] , data['x2'] , c = data['y'])"
   ]
  },
  {
   "cell_type": "code",
   "execution_count": 1,
   "metadata": {},
   "outputs": [
    {
     "ename": "NameError",
     "evalue": "name 'N_Net' is not defined",
     "output_type": "error",
     "traceback": [
      "\u001b[1;31m---------------------------------------------------------------------------\u001b[0m",
      "\u001b[1;31mNameError\u001b[0m                                 Traceback (most recent call last)",
      "\u001b[1;32m<ipython-input-1-783b80a99cae>\u001b[0m in \u001b[0;36m<module>\u001b[1;34m\u001b[0m\n\u001b[1;32m----> 1\u001b[1;33m \u001b[0mobj\u001b[0m \u001b[1;33m=\u001b[0m \u001b[0mN_Net\u001b[0m\u001b[1;33m(\u001b[0m\u001b[0mx\u001b[0m\u001b[1;33m.\u001b[0m\u001b[0mT\u001b[0m\u001b[1;33m,\u001b[0m \u001b[0my\u001b[0m\u001b[1;33m.\u001b[0m\u001b[0mreshape\u001b[0m\u001b[1;33m(\u001b[0m\u001b[1;36m1\u001b[0m\u001b[1;33m,\u001b[0m\u001b[1;36m117\u001b[0m\u001b[1;33m)\u001b[0m\u001b[1;33m,\u001b[0m \u001b[1;36m3\u001b[0m\u001b[1;33m,\u001b[0m \u001b[1;33m[\u001b[0m\u001b[1;36m4\u001b[0m\u001b[1;33m,\u001b[0m\u001b[1;36m3\u001b[0m\u001b[1;33m,\u001b[0m\u001b[1;36m1\u001b[0m\u001b[1;33m]\u001b[0m\u001b[1;33m)\u001b[0m\u001b[1;33m\u001b[0m\u001b[1;33m\u001b[0m\u001b[0m\n\u001b[0m\u001b[0;32m      2\u001b[0m \u001b[0mw\u001b[0m\u001b[1;33m,\u001b[0m \u001b[0mb\u001b[0m \u001b[1;33m=\u001b[0m \u001b[0mobj\u001b[0m\u001b[1;33m.\u001b[0m\u001b[0mmodel\u001b[0m\u001b[1;33m(\u001b[0m\u001b[0mitteration\u001b[0m \u001b[1;33m=\u001b[0m \u001b[1;36m30000\u001b[0m\u001b[1;33m)\u001b[0m\u001b[1;33m\u001b[0m\u001b[1;33m\u001b[0m\u001b[0m\n",
      "\u001b[1;31mNameError\u001b[0m: name 'N_Net' is not defined"
     ]
    }
   ],
   "source": [
    "obj = N_Net(x.T, y.reshape(1,117), 3, [4,3,1])\n",
    "w, b = obj.model(itteration = 30000)"
   ]
  },
  {
   "cell_type": "code",
   "execution_count": null,
   "metadata": {},
   "outputs": [],
   "source": []
  },
  {
   "cell_type": "code",
   "execution_count": 92,
   "metadata": {},
   "outputs": [
    {
     "name": "stdout",
     "output_type": "stream",
     "text": [
      "False 1\n",
      "False 1\n",
      "False 1\n",
      "False 1\n",
      "False 1\n",
      "False 1\n",
      "False 1\n",
      "False 1\n",
      "False 1\n",
      "False 1\n",
      "False 1\n",
      "False 1\n",
      "False 1\n",
      "False 1\n",
      "False 1\n",
      "False 1\n",
      "False 1\n",
      "False 1\n",
      "False 1\n",
      "False 1\n",
      "False 1\n",
      "False 1\n",
      "False 1\n",
      "False 1\n",
      "False 1\n",
      "False 1\n",
      "False 1\n",
      "False 1\n",
      "False 1\n",
      "False 1\n",
      "False 1\n",
      "False 1\n",
      "False 1\n",
      "False 1\n",
      "False 1\n",
      "False 1\n",
      "False 1\n",
      "False 1\n",
      "False 1\n",
      "False 1\n",
      "False 1\n",
      "False 1\n",
      "False 1\n",
      "False 1\n",
      "False 1\n",
      "False 1\n",
      "False 1\n",
      "False 1\n",
      "False 1\n",
      "False 1\n",
      "False 1\n",
      "False 1\n",
      "False 1\n",
      "False 1\n",
      "False 1\n",
      "False 1\n",
      "False 1\n",
      "False 0\n",
      "False 0\n",
      "False 0\n",
      "False 0\n",
      "False 0\n",
      "False 0\n",
      "False 0\n",
      "False 0\n",
      "False 0\n",
      "False 0\n",
      "False 0\n",
      "False 0\n",
      "False 0\n",
      "False 0\n",
      "False 0\n",
      "False 0\n",
      "False 0\n",
      "False 0\n",
      "False 0\n",
      "False 0\n",
      "False 0\n",
      "False 0\n",
      "False 0\n",
      "False 0\n",
      "False 0\n",
      "False 0\n",
      "False 0\n",
      "False 0\n",
      "False 0\n",
      "False 0\n",
      "False 0\n",
      "False 0\n",
      "False 0\n",
      "False 0\n",
      "False 0\n",
      "False 0\n",
      "False 0\n",
      "False 0\n",
      "False 0\n",
      "False 0\n",
      "False 0\n",
      "False 0\n",
      "False 0\n"
     ]
    }
   ],
   "source": [
    "for i in range(100):\n",
    "    print(obj.forward_prapogation(x[i].reshape(2,1), w, b)[-1][-1][0][0] >  0.5 , y[i])"
   ]
  },
  {
   "cell_type": "code",
   "execution_count": 81,
   "metadata": {},
   "outputs": [
    {
     "data": {
      "text/plain": [
       "1"
      ]
     },
     "execution_count": 81,
     "metadata": {},
     "output_type": "execute_result"
    }
   ],
   "source": []
  },
  {
   "cell_type": "code",
   "execution_count": null,
   "metadata": {},
   "outputs": [],
   "source": []
  }
 ],
 "metadata": {
  "kernelspec": {
   "display_name": "Python 3",
   "language": "python",
   "name": "python3"
  },
  "language_info": {
   "codemirror_mode": {
    "name": "ipython",
    "version": 3
   },
   "file_extension": ".py",
   "mimetype": "text/x-python",
   "name": "python",
   "nbconvert_exporter": "python",
   "pygments_lexer": "ipython3",
   "version": "3.8.8"
  }
 },
 "nbformat": 4,
 "nbformat_minor": 4
}
