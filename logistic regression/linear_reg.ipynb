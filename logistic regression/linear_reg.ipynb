{
 "cells": [
  {
   "cell_type": "code",
   "execution_count": 2,
   "metadata": {},
   "outputs": [],
   "source": [
    "import matplotlib.pyplot as plt\n",
    "import pandas as pd\n",
    "import numpy as np\n",
    "from tqdm import tqdm"
   ]
  },
  {
   "cell_type": "code",
   "execution_count": 3,
   "metadata": {},
   "outputs": [],
   "source": [
    "data = pd.read_csv(\"ex2data1.txt\")\n",
    "data.to_csv(r\"ex2data1.csv\")"
   ]
  },
  {
   "cell_type": "code",
   "execution_count": 4,
   "metadata": {},
   "outputs": [],
   "source": [
    "data.columns = [\"x0\" , \"x1\" , \"y\"]"
   ]
  },
  {
   "cell_type": "markdown",
   "metadata": {},
   "source": [
    "<html>\n",
    "    <body>\n",
    "        <h4>\n",
    "            <h2>Functions:</h2>\n",
    "            sigmoid<br>\n",
    "            hypothisis<br>\n",
    "            cost<br>\n",
    "            gradient descent<br>\n",
    "        </h4>\n",
    "    </body>\n",
    "</html>"
   ]
  },
  {
   "cell_type": "code",
   "execution_count": 44,
   "metadata": {},
   "outputs": [
    {
     "data": {
      "text/plain": [
       "matrix([[False, False, False, False, False, False, False, False, False,\n",
       "         False, False, False, False, False, False, False, False, False,\n",
       "         False, False, False, False, False, False, False, False, False,\n",
       "         False, False, False, False, False, False, False, False, False,\n",
       "         False, False, False, False, False, False, False, False, False,\n",
       "         False, False, False, False, False, False, False, False, False,\n",
       "         False, False, False, False, False, False, False, False, False,\n",
       "         False, False, False, False, False, False, False, False, False,\n",
       "         False, False, False, False, False, False, False, False, False,\n",
       "         False, False, False, False, False, False, False, False, False,\n",
       "         False, False, False, False, False, False, False, False, False]])"
      ]
     },
     "execution_count": 44,
     "metadata": {},
     "output_type": "execute_result"
    }
   ],
   "source": [
    "#intialize perameters\n",
    "y = np.matrix(data[\"y\"] , dtype=float)\n",
    "x = []\n",
    "for i in range(np.shape(y)[1]):\n",
    "    x.append([1 , data['x0'][i], data['x1'][i]] )\n",
    "x = np.matrix(x , dtype=float)\n",
    "theta = np.matrix(np.zeros((1,np.shape(x)[1])) , dtype=float)\n",
    "np.shape(x) , np.shape(y) , np.shape(theta)\n",
    "Parameters = model(x, y, theta, max_itter = 100000)\n",
    "Parameters[2]"
   ]
  },
  {
   "cell_type": "code",
   "execution_count": 7,
   "metadata": {},
   "outputs": [
    {
     "name": "stderr",
     "output_type": "stream",
     "text": [
      "100%|██████████| 1000/1000 [00:00<00:00, 2840.69it/s]"
     ]
    },
    {
     "name": "stdout",
     "output_type": "stream",
     "text": [
      "Accurecy 0.0 %\n"
     ]
    },
    {
     "name": "stderr",
     "output_type": "stream",
     "text": [
      "\n"
     ]
    }
   ],
   "source": [
    "new_theta = gradient_descent(x, y, theta)\n",
    "Theta, new_cost = new_theta\n",
    "Theta = np.array(Theta)[0]\n",
    "\n",
    "print(\"Accurecy\", np.mean(hypothisis(x, Theta) == y) * 100, \"%\")"
   ]
  },
  {
   "cell_type": "code",
   "execution_count": 8,
   "metadata": {},
   "outputs": [
    {
     "data": {
      "text/plain": [
       "array([-0.06920412,  0.00944127,  0.00277835])"
      ]
     },
     "execution_count": 8,
     "metadata": {},
     "output_type": "execute_result"
    },
    {
     "data": {
      "image/png": "[encoded data removed]",
      "text/plain": [
       "<Figure size 432x288 with 1 Axes>"
      ]
     },
     "metadata": {
      "needs_background": "light"
     },
     "output_type": "display_data"
    }
   ],
   "source": [
    "#visulization of model\n",
    "    # for linear equeation\n",
    "plt.scatter(np.array(data[data['y'] == 0]['x1']) , np.array(data[data['y'] == 0]['x0']) , color = 'red')\n",
    "plt.scatter(np.array(data[data['y'] == 1]['x1']) , np.array(data[data['y'] == 1]['x0']) , color = 'green')\n",
    "x0 = data['x0']\n",
    "x1 = -(x0 * np.array(Theta)[1] + np.array(Theta)[0]) / np.array(Theta)[2]\n",
    "plt.plot(np.array(x0) , (np.array(x1)))\n",
    "Theta"
   ]
  },
  {
   "cell_type": "code",
   "execution_count": 68,
   "metadata": {},
   "outputs": [
    {
     "name": "stdout",
     "output_type": "stream",
     "text": [
      "100.0\n",
      "100.0\n",
      "100.0\n"
     ]
    },
    {
     "data": {
      "image/png": "[encoded data removed]",
      "text/plain": [
       "<Figure size 432x288 with 1 Axes>"
      ]
     },
     "metadata": {
      "needs_background": "light"
     },
     "output_type": "display_data"
    }
   ],
   "source": [
    "plt.scatter(np.array(data[data['y'] == 0]['x1']) , np.array(data[data['y'] == 0]['x0']) , color = 'red')\n",
    "plt.scatter(np.array(data[data['y'] == 1]['x1']) , np.array(data[data['y'] == 1]['x0']) , color = 'green')\n",
    "        \n",
    "# x1 = np.linspace(min(data['x0']) , max(data['x0']),10)\n",
    "x1 = np.sort(data['x1'])\n",
    "x0 = (-Theta[0] - (Theta[2] * x1)) / (Theta[1] + (Theta[3]*x1))\n",
    "\n",
    "for i in range(len(x0)):\n",
    "    if x0[i] == max(x0):\n",
    "        x0[i] = \\\n",
    "        print(x0[i])\n",
    "\n",
    "plt.plot(np.array(x0) , (np.array(x1)) , color=\"blue\")\n",
    "plt.show()"
   ]
  },
  {
   "cell_type": "code",
   "execution_count": 60,
   "metadata": {},
   "outputs": [
    {
     "data": {
      "text/plain": [
       "345.17343881624487"
      ]
     },
     "execution_count": 60,
     "metadata": {},
     "output_type": "execute_result"
    }
   ],
   "source": [
    "max(x0)"
   ]
  },
  {
   "cell_type": "markdown",
   "metadata": {},
   "source": [
    "# "
   ]
  },
  {
   "cell_type": "code",
   "execution_count": null,
   "metadata": {},
   "outputs": [],
   "source": []
  }
 ],
 "metadata": {
  "kernelspec": {
   "display_name": "Python 3",
   "language": "python",
   "name": "python3"
  },
  "language_info": {
   "codemirror_mode": {
    "name": "ipython",
    "version": 3
   },
   "file_extension": ".py",
   "mimetype": "text/x-python",
   "name": "python",
   "nbconvert_exporter": "python",
   "pygments_lexer": "ipython3",
   "version": "3.8.8"
  }
 },
 "nbformat": 4,
 "nbformat_minor": 4
}
