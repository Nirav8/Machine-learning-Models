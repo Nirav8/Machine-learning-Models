{
 "cells": [
  {
   "cell_type": "code",
   "execution_count": 1,
   "metadata": {},
   "outputs": [],
   "source": [
    "import pandas as pd\n",
    "import matplotlib.pyplot as plt\n",
    "import numpy as np\n",
    "from tqdm import tqdm\n",
    "import scipy.io"
   ]
  },
  {
   "cell_type": "code",
   "execution_count": 2,
   "metadata": {},
   "outputs": [
    {
     "data": {
      "text/plain": [
       "((4, 2), (1, 4), (1, 2))"
      ]
     },
     "execution_count": 2,
     "metadata": {},
     "output_type": "execute_result"
    }
   ],
   "source": [
    "#dummy data\n",
    "\"\"\"\n",
    "No of feature is 3 & data length is 4\n",
    "\"\"\"\n",
    "d_X = np.matrix([[1,1],[2,2],[3,3],[4,4]])\n",
    "d_y = np.matrix([1,2,3,4])\n",
    "d_theta = np.matrix([0,0])\n",
    "np.shape(d_X) , np.shape(d_y) , np.shape(d_theta)"
   ]
  },
  {
   "cell_type": "code",
   "execution_count": 3,
   "metadata": {},
   "outputs": [],
   "source": [
    "# \"\"\"\n",
    "# Txt to CSV\n",
    "\n",
    "# \"\"\"\n",
    "# data = pd.read_csv(\"ex1data1.txt\")\n",
    "# data.to_csv(r'ex1data1.csv' , index=False)"
   ]
  },
  {
   "cell_type": "code",
   "execution_count": 4,
   "metadata": {},
   "outputs": [
    {
     "data": {
      "text/html": [
       "<div>\n",
       "<style scoped>\n",
       "    .dataframe tbody tr th:only-of-type {\n",
       "        vertical-align: middle;\n",
       "    }\n",
       "\n",
       "    .dataframe tbody tr th {\n",
       "        vertical-align: top;\n",
       "    }\n",
       "\n",
       "    .dataframe thead th {\n",
       "        text-align: right;\n",
       "    }\n",
       "</style>\n",
       "<table border=\"1\" class=\"dataframe\">\n",
       "  <thead>\n",
       "    <tr style=\"text-align: right;\">\n",
       "      <th></th>\n",
       "      <th>x</th>\n",
       "      <th>y</th>\n",
       "    </tr>\n",
       "  </thead>\n",
       "  <tbody>\n",
       "    <tr>\n",
       "      <th>0</th>\n",
       "      <td>5.5277</td>\n",
       "      <td>9.13020</td>\n",
       "    </tr>\n",
       "    <tr>\n",
       "      <th>1</th>\n",
       "      <td>8.5186</td>\n",
       "      <td>13.66200</td>\n",
       "    </tr>\n",
       "    <tr>\n",
       "      <th>2</th>\n",
       "      <td>7.0032</td>\n",
       "      <td>11.85400</td>\n",
       "    </tr>\n",
       "    <tr>\n",
       "      <th>3</th>\n",
       "      <td>5.8598</td>\n",
       "      <td>6.82330</td>\n",
       "    </tr>\n",
       "    <tr>\n",
       "      <th>4</th>\n",
       "      <td>8.3829</td>\n",
       "      <td>11.88600</td>\n",
       "    </tr>\n",
       "    <tr>\n",
       "      <th>...</th>\n",
       "      <td>...</td>\n",
       "      <td>...</td>\n",
       "    </tr>\n",
       "    <tr>\n",
       "      <th>91</th>\n",
       "      <td>5.8707</td>\n",
       "      <td>7.20290</td>\n",
       "    </tr>\n",
       "    <tr>\n",
       "      <th>92</th>\n",
       "      <td>5.3054</td>\n",
       "      <td>1.98690</td>\n",
       "    </tr>\n",
       "    <tr>\n",
       "      <th>93</th>\n",
       "      <td>8.2934</td>\n",
       "      <td>0.14454</td>\n",
       "    </tr>\n",
       "    <tr>\n",
       "      <th>94</th>\n",
       "      <td>13.3940</td>\n",
       "      <td>9.05510</td>\n",
       "    </tr>\n",
       "    <tr>\n",
       "      <th>95</th>\n",
       "      <td>5.4369</td>\n",
       "      <td>0.61705</td>\n",
       "    </tr>\n",
       "  </tbody>\n",
       "</table>\n",
       "<p>96 rows × 2 columns</p>\n",
       "</div>"
      ],
      "text/plain": [
       "          x         y\n",
       "0    5.5277   9.13020\n",
       "1    8.5186  13.66200\n",
       "2    7.0032  11.85400\n",
       "3    5.8598   6.82330\n",
       "4    8.3829  11.88600\n",
       "..      ...       ...\n",
       "91   5.8707   7.20290\n",
       "92   5.3054   1.98690\n",
       "93   8.2934   0.14454\n",
       "94  13.3940   9.05510\n",
       "95   5.4369   0.61705\n",
       "\n",
       "[96 rows x 2 columns]"
      ]
     },
     "execution_count": 4,
     "metadata": {},
     "output_type": "execute_result"
    }
   ],
   "source": [
    "data = pd.read_csv(r\"ex1data1.csv\")\n",
    "data.columns = [\"x\" , \"y\"]\n",
    "data"
   ]
  },
  {
   "cell_type": "code",
   "execution_count": 5,
   "metadata": {},
   "outputs": [
    {
     "data": {
      "text/plain": [
       "((96, 2), (1, 96), (1, 2))"
      ]
     },
     "execution_count": 5,
     "metadata": {},
     "output_type": "execute_result"
    }
   ],
   "source": [
    "X0 = data['x']\n",
    "y = np.matrix(data[\"y\"] , dtype=float)\n",
    "X = []\n",
    "for i in range(len(X0)):\n",
    "    X.append([1 , X0[i]])\n",
    "X = np.matrix(X , dtype=float)\n",
    "theta = np.matrix([0,0] , dtype=float)\n",
    "np.shape(X) , np.shape(y) , np.shape(theta)"
   ]
  },
  {
   "cell_type": "markdown",
   "metadata": {},
   "source": [
    "<html>\n",
    "    <body>\n",
    "        <h4>\n",
    "            <h2>Functions:</h2>\n",
    "            hypothisis<br>\n",
    "            cost<br>\n",
    "            gradient descent<br>\n",
    "        </h4>\n",
    "    </body>\n",
    "</html>"
   ]
  },
  {
   "cell_type": "markdown",
   "metadata": {},
   "source": [
    "<html>\n",
    "    <body>\n",
    "        <h5>\n",
    "            input data = theta & X<br>\n",
    "            output data = h(x) = prediction\n",
    "        </h5>\n",
    "    </body>\n",
    "</html>"
   ]
  },
  {
   "cell_type": "code",
   "execution_count": 6,
   "metadata": {},
   "outputs": [
    {
     "data": {
      "text/plain": [
       "(matrix([[0., 0., 0., 0., 0., 0., 0., 0., 0., 0., 0., 0., 0., 0., 0., 0.,\n",
       "          0., 0., 0., 0., 0., 0., 0., 0., 0., 0., 0., 0., 0., 0., 0., 0.,\n",
       "          0., 0., 0., 0., 0., 0., 0., 0., 0., 0., 0., 0., 0., 0., 0., 0.,\n",
       "          0., 0., 0., 0., 0., 0., 0., 0., 0., 0., 0., 0., 0., 0., 0., 0.,\n",
       "          0., 0., 0., 0., 0., 0., 0., 0., 0., 0., 0., 0., 0., 0., 0., 0.,\n",
       "          0., 0., 0., 0., 0., 0., 0., 0., 0., 0., 0., 0., 0., 0., 0., 0.]]),\n",
       " (1, 96))"
      ]
     },
     "execution_count": 6,
     "metadata": {},
     "output_type": "execute_result"
    }
   ],
   "source": [
    "def hypothisis(x, theta):\n",
    "    return theta * x.T\n",
    "hypothisis(X, theta) , np.shape(hypothisis(X, theta))"
   ]
  },
  {
   "cell_type": "markdown",
   "metadata": {},
   "source": [
    "<html>\n",
    "    <body>\n",
    "        <h5>\n",
    "            input data = theta, X & y<br>\n",
    "            output data = h(x) = prediction\n",
    "        </h5>\n",
    "    </body>\n",
    "</html>"
   ]
  },
  {
   "cell_type": "code",
   "execution_count": 7,
   "metadata": {},
   "outputs": [
    {
     "data": {
      "text/plain": [
       "54.596023180575"
      ]
     },
     "execution_count": 7,
     "metadata": {},
     "output_type": "execute_result"
    }
   ],
   "source": [
    "def cost(x, y, theta):\n",
    "    hx = hypothisis(x, theta)\n",
    "    m = np.shape(x)[0]\n",
    "    return np.sum(np.square(y - hx.reshape(np.shape(y)))) / (2*m)\n",
    "cost(X, y, [-1,2])"
   ]
  },
  {
   "cell_type": "code",
   "execution_count": 8,
   "metadata": {},
   "outputs": [
    {
     "name": "stderr",
     "output_type": "stream",
     "text": [
      "100%|█████████████████████████████████████████████████████████████████████████████| 100/100 [00:00<00:00, 12568.33it/s]\n"
     ]
    },
    {
     "data": {
      "text/plain": [
       "matrix([[0.38969554, 0.38969554]])"
      ]
     },
     "execution_count": 8,
     "metadata": {},
     "output_type": "execute_result"
    }
   ],
   "source": [
    "def gradient_descent(x, y, theta, alfa = 0.001, max_itter = 100):\n",
    "    for i in tqdm(range(max_itter)):\n",
    "        hx = hypothisis(x, theta)\n",
    "        m = np.shape(x)[0]\n",
    "        theta = theta - ((alfa/m) * ((hx - y) * x))\n",
    "#         if i%100 == 0:\n",
    "            \n",
    "#             plt.plot(np.linspace(1,1,np.shape(X)[0]) , hx.T , color='orange')\n",
    "#     plt.plot(np.linspace(1,2,np.shape(X)[0]), y.T , color='blue')\n",
    "    return theta\n",
    "gradient_descent(d_X, d_y, d_theta)"
   ]
  },
  {
   "cell_type": "code",
   "execution_count": 9,
   "metadata": {},
   "outputs": [
    {
     "name": "stderr",
     "output_type": "stream",
     "text": [
      "100%|██████████████████████████████████████████████████████████████████████████████| 100/100 [00:00<00:00, 7663.21it/s]\n"
     ]
    },
    {
     "data": {
      "text/plain": [
       "(matrix([[0.77939109, 1.55878218, 2.33817327, 3.11756436]]),\n",
       " 0.18250609266933832)"
      ]
     },
     "execution_count": 9,
     "metadata": {},
     "output_type": "execute_result"
    }
   ],
   "source": [
    "d_theta = gradient_descent(d_X, d_y, d_theta)\n",
    "hypothisis(d_X, d_theta), cost(d_X, d_y, d_theta)"
   ]
  },
  {
   "cell_type": "code",
   "execution_count": 10,
   "metadata": {},
   "outputs": [
    {
     "name": "stderr",
     "output_type": "stream",
     "text": [
      "100%|███████████████████████████████████████████████████████████████████████████| 1500/1500 [00:00<00:00, 21522.94it/s]\n"
     ]
    },
    {
     "data": {
      "text/plain": [
       "(matrix([[ 2.62386174,  6.16806538,  4.3723229 ,  3.01739881,  6.00726147,\n",
       "           4.93306286,  6.23857263,  3.75968012,  2.06324027,  2.84071595,\n",
       "          12.85784012,  2.86832635,  6.03747886,  2.75776625,  2.44812688,\n",
       "           3.61653264,  2.15270745,  3.69260936,  4.45242861,  3.4076179 ,\n",
       "          20.09342388,  2.5793059 ,  3.56996231,  2.66794358, 18.52330458,\n",
       "          11.27468586,  9.05755891, 11.68706437, 22.38402057,  2.29763242,\n",
       "           3.88197168,  7.03263825,  3.05531867,  5.80367921,  5.4746059 ,\n",
       "           5.6671677 ,  2.7170024 , 11.28416583,  3.60231269,  2.48071426,\n",
       "           4.22929392,  9.94749068,  2.91537068,  5.34579687,  4.47885401,\n",
       "           2.0817262 ,  2.94819506,  9.93801071,  2.64033318,  5.00866559,\n",
       "           2.36316268,  4.87085059,  5.08320182,  3.57790178,  3.60883017,\n",
       "           3.50846103,  2.75658126,  7.10610798,  7.27603637,  6.53162207,\n",
       "           2.21100924, 21.28908454, 13.73947693, 18.53989452,  4.62709697,\n",
       "           5.90321885,  8.203177  ,  2.59032636, 20.17755858,  8.08467743,\n",
       "           4.76491197,  3.19088218,  4.63622144,  2.03041589,  3.83279435,\n",
       "           5.0067696 ,  2.04179185,  8.24820684,  2.12616354,  2.86263837,\n",
       "           2.2217927 ,  3.60503818,  7.64942851,  3.79487449,  6.16640639,\n",
       "           6.95205854,  3.1859052 ,  2.61521127,  2.06892825,  2.83716096,\n",
       "           5.12289918,  3.03031526,  2.36043719,  5.90120435, 11.94539343,\n",
       "           2.51626413]]),\n",
       " 3.4669931480443914)"
      ]
     },
     "execution_count": 10,
     "metadata": {},
     "output_type": "execute_result"
    }
   ],
   "source": [
    "theta = gradient_descent(X , y , theta , max_itter = 1500 , alfa = 0.01)\n",
    "hypothisis(X , theta) , cost(X , y , theta)"
   ]
  },
  {
   "cell_type": "code",
   "execution_count": 11,
   "metadata": {},
   "outputs": [
    {
     "data": {
      "image/png": "[encoded data removed]",
      "text/plain": [
       "<Figure size 432x288 with 1 Axes>"
      ]
     },
     "metadata": {
      "needs_background": "light"
     },
     "output_type": "display_data"
    }
   ],
   "source": [
    "plt.scatter(np.array(y) , data['x'])\n",
    "plt.plot(np.array(X * theta.T) , np.array(data['x']) , color='red')\n",
    "plt.show()"
   ]
  },
  {
   "cell_type": "code",
   "execution_count": 12,
   "metadata": {},
   "outputs": [
    {
     "data": {
      "text/plain": [
       "(numpy.matrix, numpy.matrix)"
      ]
     },
     "execution_count": 12,
     "metadata": {},
     "output_type": "execute_result"
    }
   ],
   "source": [
    "type(hypothisis(X, theta)) , type(np.matrix(data['x']))"
   ]
  },
  {
   "cell_type": "code",
   "execution_count": 13,
   "metadata": {},
   "outputs": [
    {
     "data": {
      "text/plain": [
       "125.66451819782824"
      ]
     },
     "execution_count": 13,
     "metadata": {},
     "output_type": "execute_result"
    }
   ],
   "source": [
    "# Mean Absolute Percentage Error (MAPE)\n",
    "acc = np.sum(abs(y - hypothisis(X, theta)) / y) * (100/np.shape(X)[0])\n",
    "acc"
   ]
  },
  {
   "cell_type": "code",
   "execution_count": null,
   "metadata": {},
   "outputs": [],
   "source": [
    "#final virsion without b_p bug\n",
    "class N_Net():\n",
    "    \n",
    "    def __init__(self, x, y, n_h, n_u):\n",
    "        self.x = x\n",
    "        self.y = y\n",
    "        self.n_h = n_h\n",
    "        self.n_u = n_u\n",
    "\n",
    "    def define_parameters(self):\n",
    "        x = self.x\n",
    "        n_h = self.n_h\n",
    "        n_u = self.n_u\n",
    "        \n",
    "        i_l = np.shape(x)[0]   # n = features\n",
    "        w, b= [], []\n",
    "        for i in range(n_h):\n",
    "            w.append((np.random.randn(n_u[i], i_l) * 0.01).tolist())\n",
    "            i_l = n_u[i]\n",
    "            b.append((np.zeros((n_u[i],1))).tolist())\n",
    "        return w, b\n",
    "    \n",
    "    def forward_prapogation(self,x ,w, b):\n",
    "        z, a = [], []\n",
    "    #loop\n",
    "        for i in range(len(w)):\n",
    "            if i == 0:\n",
    "                z.append(np.dot(w[i], x) + b[i])\n",
    "                a.append(sigmoid(z[i]))\n",
    "            else:\n",
    "                z.append(np.dot(w[i], z[i-1]) + b[i])\n",
    "                a.append(sigmoid(z[i]))\n",
    "        return z, a\n",
    "    \n",
    "    def backward_propogation(self, z, a, w):\n",
    "        dz, dw, db = [], [], []\n",
    "        x, y = self.x, self.y\n",
    "        \n",
    "        #loop\n",
    "        for i in range(len(w)):\n",
    "            if i == 0:\n",
    "                if np.shape(a[-1]) != np.shape(y):\n",
    "                    print(\"check your 'y' !!!!\")\n",
    "                    break\n",
    "                dz.append(a[i-1] - y)\n",
    "                dw.append(np.dot(dz[i] , np.array(a[i-2]).T))\n",
    "                db.append(np.sum(dz[i], axis=1,  keepdims=True))\n",
    "                \n",
    "            elif i == len(w)-1:\n",
    "                dz.append(np.dot(np.array(w[-i]).T , dz[i-1])) #, (1 - np.power(a[i-1],2))\n",
    "                dw.append(np.dot(dz[i], x.T))\n",
    "                db.append(np.sum(dz[i], axis=1,  keepdims=True))\n",
    "                \n",
    "            else:\n",
    "                dz.append(np.dot(np.array(w[-i]).T , dz[i-1]))   #, (1 - np.power(a[i-1],2))\n",
    "                dw.append(np.dot(dz[i], np.array(a[-i-2]).T))\n",
    "                db.append(np.sum(dz[i], axis=1,  keepdims=True))\n",
    "                \n",
    "        return np.flip(dw), np.flip(db), np.flip(dz)\n",
    "    \n",
    "    def model(self, itteration = 1000, alfa = 0.01):\n",
    "        x = self.x \n",
    "        m = np.shape(x)[1]\n",
    "        w, b = self.define_parameters()\n",
    "        \n",
    "        for i in tqdm(range(itteration)):\n",
    "            \n",
    "            z, a = self.forward_prapogation(x, w, b)\n",
    "            dw, db, dz = self.backward_propogation(z, a, w)\n",
    "            \n",
    "            dw, db = dw/m, db/m\n",
    "            \n",
    "            temp_w = w - (alfa * dw)\n",
    "            temp_b = b - (alfa * db)\n",
    "            w, b = temp_w, temp_b\n",
    "        \n",
    "        return w, b"
   ]
  },
  {
   "cell_type": "code",
   "execution_count": null,
   "metadata": {},
   "outputs": [],
   "source": []
  }
 ],
 "metadata": {
  "kernelspec": {
   "display_name": "Python 3",
   "language": "python",
   "name": "python3"
  },
  "language_info": {
   "codemirror_mode": {
    "name": "ipython",
    "version": 3
   },
   "file_extension": ".py",
   "mimetype": "text/x-python",
   "name": "python",
   "nbconvert_exporter": "python",
   "pygments_lexer": "ipython3",
   "version": "3.8.8"
  }
 },
 "nbformat": 4,
 "nbformat_minor": 4
}
